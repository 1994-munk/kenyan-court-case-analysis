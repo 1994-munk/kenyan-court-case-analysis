{
 "cells": [
  {
   "cell_type": "code",
   "execution_count": 2,
   "id": "d561da87-a761-4d06-8b5a-6304406c4a1c",
   "metadata": {},
   "outputs": [],
   "source": [
    "import pandas as pd\n",
    "import matplotlib.pyplot as plt\n",
    "import seaborn as sns\n"
   ]
  },
  {
   "cell_type": "code",
   "execution_count": 3,
   "id": "7fc5e972-1184-47a1-aa90-e3d7657a32aa",
   "metadata": {
    "jupyter": {
     "source_hidden": true
    },
    "scrolled": true
   },
   "outputs": [
    {
     "data": {
      "text/html": [
       "<div>\n",
       "<style scoped>\n",
       "    .dataframe tbody tr th:only-of-type {\n",
       "        vertical-align: middle;\n",
       "    }\n",
       "\n",
       "    .dataframe tbody tr th {\n",
       "        vertical-align: top;\n",
       "    }\n",
       "\n",
       "    .dataframe thead th {\n",
       "        text-align: right;\n",
       "    }\n",
       "</style>\n",
       "<table border=\"1\" class=\"dataframe\">\n",
       "  <thead>\n",
       "    <tr style=\"text-align: right;\">\n",
       "      <th></th>\n",
       "      <th>Case ID</th>\n",
       "      <th>Case Type</th>\n",
       "      <th>Outcome</th>\n",
       "      <th>Duration (Days)</th>\n",
       "      <th>Filing Year</th>\n",
       "    </tr>\n",
       "  </thead>\n",
       "  <tbody>\n",
       "    <tr>\n",
       "      <th>0</th>\n",
       "      <td>case_001</td>\n",
       "      <td>Criminal</td>\n",
       "      <td>Conviction</td>\n",
       "      <td>120</td>\n",
       "      <td>2020</td>\n",
       "    </tr>\n",
       "    <tr>\n",
       "      <th>1</th>\n",
       "      <td>case_002</td>\n",
       "      <td>Civil</td>\n",
       "      <td>Dismissed</td>\n",
       "      <td>45</td>\n",
       "      <td>2021</td>\n",
       "    </tr>\n",
       "    <tr>\n",
       "      <th>2</th>\n",
       "      <td>case_003</td>\n",
       "      <td>Criminal</td>\n",
       "      <td>Conviction</td>\n",
       "      <td>150</td>\n",
       "      <td>2021</td>\n",
       "    </tr>\n",
       "    <tr>\n",
       "      <th>3</th>\n",
       "      <td>case_004</td>\n",
       "      <td>Family</td>\n",
       "      <td>Settled</td>\n",
       "      <td>200</td>\n",
       "      <td>2020</td>\n",
       "    </tr>\n",
       "    <tr>\n",
       "      <th>4</th>\n",
       "      <td>case_005</td>\n",
       "      <td>Civil</td>\n",
       "      <td>Dismissed</td>\n",
       "      <td>75</td>\n",
       "      <td>2022</td>\n",
       "    </tr>\n",
       "  </tbody>\n",
       "</table>\n",
       "</div>"
      ],
      "text/plain": [
       "    Case ID Case Type     Outcome  Duration (Days)  Filing Year\n",
       "0  case_001  Criminal  Conviction              120         2020\n",
       "1  case_002     Civil   Dismissed               45         2021\n",
       "2  case_003  Criminal  Conviction              150         2021\n",
       "3  case_004    Family     Settled              200         2020\n",
       "4  case_005     Civil   Dismissed               75         2022"
      ]
     },
     "execution_count": 3,
     "metadata": {},
     "output_type": "execute_result"
    }
   ],
   "source": [
    "import pandas as pd\n",
    "\n",
    "# Load the dataset\n",
    "df = pd.read_csv(\"court_cases.csv\")\n",
    "\n",
    "# Display the first few rows of the dataset\n",
    "df.head()\n"
   ]
  },
  {
   "cell_type": "code",
   "execution_count": 4,
   "id": "ea7c2cec-5b99-4ea1-a9db-ac48321ab28d",
   "metadata": {},
   "outputs": [
    {
     "name": "stdout",
     "output_type": "stream",
     "text": [
      "c:\\Users\\Apostle\\Kenyan-Court-Case-Analysis\n",
      "True\n"
     ]
    }
   ],
   "source": [
    "import os\n",
    "\n",
    "# Print the current working directory (where your Jupyter Notebook is located)\n",
    "print(os.getcwd())\n",
    "\n",
    "# Check if the CSV file is in the current working directory\n",
    "print(\"court_cases.csv\" in os.listdir())\n"
   ]
  },
  {
   "cell_type": "code",
   "execution_count": 5,
   "id": "36d20d92-7dca-4ff2-9910-cb08d6181fe7",
   "metadata": {},
   "outputs": [
    {
     "data": {
      "text/html": [
       "<div>\n",
       "<style scoped>\n",
       "    .dataframe tbody tr th:only-of-type {\n",
       "        vertical-align: middle;\n",
       "    }\n",
       "\n",
       "    .dataframe tbody tr th {\n",
       "        vertical-align: top;\n",
       "    }\n",
       "\n",
       "    .dataframe thead th {\n",
       "        text-align: right;\n",
       "    }\n",
       "</style>\n",
       "<table border=\"1\" class=\"dataframe\">\n",
       "  <thead>\n",
       "    <tr style=\"text-align: right;\">\n",
       "      <th></th>\n",
       "      <th>Case ID</th>\n",
       "      <th>Case Type</th>\n",
       "      <th>Outcome</th>\n",
       "      <th>Duration (Days)</th>\n",
       "      <th>Filing Year</th>\n",
       "    </tr>\n",
       "  </thead>\n",
       "  <tbody>\n",
       "    <tr>\n",
       "      <th>0</th>\n",
       "      <td>case_001</td>\n",
       "      <td>Criminal</td>\n",
       "      <td>Conviction</td>\n",
       "      <td>120</td>\n",
       "      <td>2020</td>\n",
       "    </tr>\n",
       "    <tr>\n",
       "      <th>1</th>\n",
       "      <td>case_002</td>\n",
       "      <td>Civil</td>\n",
       "      <td>Dismissed</td>\n",
       "      <td>45</td>\n",
       "      <td>2021</td>\n",
       "    </tr>\n",
       "    <tr>\n",
       "      <th>2</th>\n",
       "      <td>case_003</td>\n",
       "      <td>Criminal</td>\n",
       "      <td>Conviction</td>\n",
       "      <td>150</td>\n",
       "      <td>2021</td>\n",
       "    </tr>\n",
       "    <tr>\n",
       "      <th>3</th>\n",
       "      <td>case_004</td>\n",
       "      <td>Family</td>\n",
       "      <td>Settled</td>\n",
       "      <td>200</td>\n",
       "      <td>2020</td>\n",
       "    </tr>\n",
       "    <tr>\n",
       "      <th>4</th>\n",
       "      <td>case_005</td>\n",
       "      <td>Civil</td>\n",
       "      <td>Dismissed</td>\n",
       "      <td>75</td>\n",
       "      <td>2022</td>\n",
       "    </tr>\n",
       "  </tbody>\n",
       "</table>\n",
       "</div>"
      ],
      "text/plain": [
       "    Case ID Case Type     Outcome  Duration (Days)  Filing Year\n",
       "0  case_001  Criminal  Conviction              120         2020\n",
       "1  case_002     Civil   Dismissed               45         2021\n",
       "2  case_003  Criminal  Conviction              150         2021\n",
       "3  case_004    Family     Settled              200         2020\n",
       "4  case_005     Civil   Dismissed               75         2022"
      ]
     },
     "execution_count": 5,
     "metadata": {},
     "output_type": "execute_result"
    }
   ],
   "source": [
    "import pandas as pd\n",
    "\n",
    "# Load the dataset\n",
    "df = pd.read_csv(\"court_cases.csv\")\n",
    "\n",
    "# Display the first few rows of the dataset\n",
    "df.head()\n"
   ]
  },
  {
   "cell_type": "code",
   "execution_count": 6,
   "id": "60a8b53d-c2a7-4d7f-8fd0-6cfb3310e6eb",
   "metadata": {},
   "outputs": [
    {
     "data": {
      "text/plain": [
       "Case ID            0\n",
       "Case Type          0\n",
       "Outcome            0\n",
       "Duration (Days)    0\n",
       "Filing Year        0\n",
       "dtype: int64"
      ]
     },
     "execution_count": 6,
     "metadata": {},
     "output_type": "execute_result"
    }
   ],
   "source": [
    "# Check for missing values\n",
    "df.isnull().sum()\n"
   ]
  },
  {
   "cell_type": "code",
   "execution_count": 7,
   "id": "2c5cd053-fc84-4797-8406-d2063032afe2",
   "metadata": {},
   "outputs": [
    {
     "data": {
      "text/html": [
       "<div>\n",
       "<style scoped>\n",
       "    .dataframe tbody tr th:only-of-type {\n",
       "        vertical-align: middle;\n",
       "    }\n",
       "\n",
       "    .dataframe tbody tr th {\n",
       "        vertical-align: top;\n",
       "    }\n",
       "\n",
       "    .dataframe thead th {\n",
       "        text-align: right;\n",
       "    }\n",
       "</style>\n",
       "<table border=\"1\" class=\"dataframe\">\n",
       "  <thead>\n",
       "    <tr style=\"text-align: right;\">\n",
       "      <th></th>\n",
       "      <th>Duration (Days)</th>\n",
       "      <th>Filing Year</th>\n",
       "    </tr>\n",
       "  </thead>\n",
       "  <tbody>\n",
       "    <tr>\n",
       "      <th>count</th>\n",
       "      <td>20.000000</td>\n",
       "      <td>20.000000</td>\n",
       "    </tr>\n",
       "    <tr>\n",
       "      <th>mean</th>\n",
       "      <td>113.000000</td>\n",
       "      <td>2020.950000</td>\n",
       "    </tr>\n",
       "    <tr>\n",
       "      <th>std</th>\n",
       "      <td>53.861421</td>\n",
       "      <td>0.825578</td>\n",
       "    </tr>\n",
       "    <tr>\n",
       "      <th>min</th>\n",
       "      <td>30.000000</td>\n",
       "      <td>2020.000000</td>\n",
       "    </tr>\n",
       "    <tr>\n",
       "      <th>25%</th>\n",
       "      <td>63.750000</td>\n",
       "      <td>2020.000000</td>\n",
       "    </tr>\n",
       "    <tr>\n",
       "      <th>50%</th>\n",
       "      <td>115.000000</td>\n",
       "      <td>2021.000000</td>\n",
       "    </tr>\n",
       "    <tr>\n",
       "      <th>75%</th>\n",
       "      <td>152.500000</td>\n",
       "      <td>2022.000000</td>\n",
       "    </tr>\n",
       "    <tr>\n",
       "      <th>max</th>\n",
       "      <td>200.000000</td>\n",
       "      <td>2022.000000</td>\n",
       "    </tr>\n",
       "  </tbody>\n",
       "</table>\n",
       "</div>"
      ],
      "text/plain": [
       "       Duration (Days)  Filing Year\n",
       "count        20.000000    20.000000\n",
       "mean        113.000000  2020.950000\n",
       "std          53.861421     0.825578\n",
       "min          30.000000  2020.000000\n",
       "25%          63.750000  2020.000000\n",
       "50%         115.000000  2021.000000\n",
       "75%         152.500000  2022.000000\n",
       "max         200.000000  2022.000000"
      ]
     },
     "execution_count": 7,
     "metadata": {},
     "output_type": "execute_result"
    }
   ],
   "source": [
    "# Summary statistics for numerical columns\n",
    "df.describe()\n"
   ]
  },
  {
   "cell_type": "code",
   "execution_count": 8,
   "id": "3847fafd-e954-4569-81ea-1f986b51fc4d",
   "metadata": {},
   "outputs": [],
   "source": [
    "df.dropna (inplace=True)"
   ]
  },
  {
   "cell_type": "code",
   "execution_count": 9,
   "id": "237246b8",
   "metadata": {},
   "outputs": [],
   "source": [
    "df.drop_duplicates(inplace=True)"
   ]
  },
  {
   "cell_type": "code",
   "execution_count": 15,
   "id": "a384ba93",
   "metadata": {},
   "outputs": [],
   "source": [
    "df['Filing Year'] = pd.to_datetime(df['Filing Year'], format='%Y')\n"
   ]
  },
  {
   "cell_type": "code",
   "execution_count": 13,
   "id": "05381873",
   "metadata": {},
   "outputs": [
    {
     "name": "stdout",
     "output_type": "stream",
     "text": [
      "Index(['Case ID', 'Case Type', 'Outcome', 'Duration (Days)', 'Filing Year'], dtype='object')\n"
     ]
    }
   ],
   "source": [
    "print(df.columns)"
   ]
  },
  {
   "cell_type": "code",
   "execution_count": 16,
   "id": "11bdde16",
   "metadata": {},
   "outputs": [],
   "source": [
    "df['Filing Year'] = pd.to_datetime(df['Filing Year'], format='%Y')\n"
   ]
  },
  {
   "cell_type": "code",
   "execution_count": 17,
   "id": "bcd68fcf",
   "metadata": {},
   "outputs": [],
   "source": [
    "df['Duration (Days)'] = pd.to_numeric(df['Duration (Days)'], errors='coerce')\n"
   ]
  },
  {
   "cell_type": "code",
   "execution_count": 18,
   "id": "85a40959",
   "metadata": {},
   "outputs": [],
   "source": [
    "df.to_csv('cleaned_court_cases.csv', index=False)"
   ]
  },
  {
   "cell_type": "code",
   "execution_count": 20,
   "id": "9e18faf1",
   "metadata": {},
   "outputs": [],
   "source": [
    "df=pd.read_csv('cleaned_court_cases.csv')"
   ]
  },
  {
   "cell_type": "code",
   "execution_count": 21,
   "id": "f1d84d12",
   "metadata": {},
   "outputs": [
    {
     "data": {
      "text/html": [
       "<div>\n",
       "<style scoped>\n",
       "    .dataframe tbody tr th:only-of-type {\n",
       "        vertical-align: middle;\n",
       "    }\n",
       "\n",
       "    .dataframe tbody tr th {\n",
       "        vertical-align: top;\n",
       "    }\n",
       "\n",
       "    .dataframe thead th {\n",
       "        text-align: right;\n",
       "    }\n",
       "</style>\n",
       "<table border=\"1\" class=\"dataframe\">\n",
       "  <thead>\n",
       "    <tr style=\"text-align: right;\">\n",
       "      <th></th>\n",
       "      <th>Case ID</th>\n",
       "      <th>Case Type</th>\n",
       "      <th>Outcome</th>\n",
       "      <th>Duration (Days)</th>\n",
       "      <th>Filing Year</th>\n",
       "    </tr>\n",
       "  </thead>\n",
       "  <tbody>\n",
       "    <tr>\n",
       "      <th>0</th>\n",
       "      <td>case_001</td>\n",
       "      <td>Criminal</td>\n",
       "      <td>Conviction</td>\n",
       "      <td>120</td>\n",
       "      <td>2020-01-01</td>\n",
       "    </tr>\n",
       "    <tr>\n",
       "      <th>1</th>\n",
       "      <td>case_002</td>\n",
       "      <td>Civil</td>\n",
       "      <td>Dismissed</td>\n",
       "      <td>45</td>\n",
       "      <td>2021-01-01</td>\n",
       "    </tr>\n",
       "    <tr>\n",
       "      <th>2</th>\n",
       "      <td>case_003</td>\n",
       "      <td>Criminal</td>\n",
       "      <td>Conviction</td>\n",
       "      <td>150</td>\n",
       "      <td>2021-01-01</td>\n",
       "    </tr>\n",
       "    <tr>\n",
       "      <th>3</th>\n",
       "      <td>case_004</td>\n",
       "      <td>Family</td>\n",
       "      <td>Settled</td>\n",
       "      <td>200</td>\n",
       "      <td>2020-01-01</td>\n",
       "    </tr>\n",
       "    <tr>\n",
       "      <th>4</th>\n",
       "      <td>case_005</td>\n",
       "      <td>Civil</td>\n",
       "      <td>Dismissed</td>\n",
       "      <td>75</td>\n",
       "      <td>2022-01-01</td>\n",
       "    </tr>\n",
       "  </tbody>\n",
       "</table>\n",
       "</div>"
      ],
      "text/plain": [
       "    Case ID Case Type     Outcome  Duration (Days) Filing Year\n",
       "0  case_001  Criminal  Conviction              120  2020-01-01\n",
       "1  case_002     Civil   Dismissed               45  2021-01-01\n",
       "2  case_003  Criminal  Conviction              150  2021-01-01\n",
       "3  case_004    Family     Settled              200  2020-01-01\n",
       "4  case_005     Civil   Dismissed               75  2022-01-01"
      ]
     },
     "execution_count": 21,
     "metadata": {},
     "output_type": "execute_result"
    }
   ],
   "source": [
    "df.head()"
   ]
  },
  {
   "cell_type": "code",
   "execution_count": 22,
   "id": "c00c7253",
   "metadata": {},
   "outputs": [
    {
     "data": {
      "text/html": [
       "<div>\n",
       "<style scoped>\n",
       "    .dataframe tbody tr th:only-of-type {\n",
       "        vertical-align: middle;\n",
       "    }\n",
       "\n",
       "    .dataframe tbody tr th {\n",
       "        vertical-align: top;\n",
       "    }\n",
       "\n",
       "    .dataframe thead th {\n",
       "        text-align: right;\n",
       "    }\n",
       "</style>\n",
       "<table border=\"1\" class=\"dataframe\">\n",
       "  <thead>\n",
       "    <tr style=\"text-align: right;\">\n",
       "      <th></th>\n",
       "      <th>Duration (Days)</th>\n",
       "    </tr>\n",
       "  </thead>\n",
       "  <tbody>\n",
       "    <tr>\n",
       "      <th>count</th>\n",
       "      <td>20.000000</td>\n",
       "    </tr>\n",
       "    <tr>\n",
       "      <th>mean</th>\n",
       "      <td>113.000000</td>\n",
       "    </tr>\n",
       "    <tr>\n",
       "      <th>std</th>\n",
       "      <td>53.861421</td>\n",
       "    </tr>\n",
       "    <tr>\n",
       "      <th>min</th>\n",
       "      <td>30.000000</td>\n",
       "    </tr>\n",
       "    <tr>\n",
       "      <th>25%</th>\n",
       "      <td>63.750000</td>\n",
       "    </tr>\n",
       "    <tr>\n",
       "      <th>50%</th>\n",
       "      <td>115.000000</td>\n",
       "    </tr>\n",
       "    <tr>\n",
       "      <th>75%</th>\n",
       "      <td>152.500000</td>\n",
       "    </tr>\n",
       "    <tr>\n",
       "      <th>max</th>\n",
       "      <td>200.000000</td>\n",
       "    </tr>\n",
       "  </tbody>\n",
       "</table>\n",
       "</div>"
      ],
      "text/plain": [
       "       Duration (Days)\n",
       "count        20.000000\n",
       "mean        113.000000\n",
       "std          53.861421\n",
       "min          30.000000\n",
       "25%          63.750000\n",
       "50%         115.000000\n",
       "75%         152.500000\n",
       "max         200.000000"
      ]
     },
     "execution_count": 22,
     "metadata": {},
     "output_type": "execute_result"
    }
   ],
   "source": [
    "df.describe()"
   ]
  },
  {
   "cell_type": "code",
   "execution_count": 23,
   "id": "89762e1e",
   "metadata": {},
   "outputs": [
    {
     "data": {
      "text/plain": [
       "Outcome\n",
       "Conviction    8\n",
       "Dismissed     6\n",
       "Settled       6\n",
       "Name: count, dtype: int64"
      ]
     },
     "execution_count": 23,
     "metadata": {},
     "output_type": "execute_result"
    }
   ],
   "source": [
    "df['Case Type'].value_counts()\n",
    "df['Outcome'].value_counts()\n"
   ]
  },
  {
   "cell_type": "code",
   "execution_count": 24,
   "id": "da9d0492",
   "metadata": {},
   "outputs": [
    {
     "name": "stderr",
     "output_type": "stream",
     "text": [
      "C:\\Users\\Apostle\\AppData\\Local\\Temp\\ipykernel_20492\\1925536222.py:2: FutureWarning: \n",
      "\n",
      "Passing `palette` without assigning `hue` is deprecated and will be removed in v0.14.0. Assign the `x` variable to `hue` and set `legend=False` for the same effect.\n",
      "\n",
      "  sns.countplot(x=df['Case Type'], palette='Set2')\n"
     ]
    },
    {
     "data": {
      "image/png": "[encoded data removed]",
      "text/plain": [
       "<Figure size 800x500 with 1 Axes>"
      ]
     },
     "metadata": {},
     "output_type": "display_data"
    }
   ],
   "source": [
    "plt.figure(figsize=(8, 5))\n",
    "sns.countplot(x=df['Case Type'], palette='Set2')\n",
    "plt.title('Number of Cases by Case Type')\n",
    "plt.xticks(rotation=45)\n",
    "plt.show()\n"
   ]
  },
  {
   "cell_type": "code",
   "execution_count": 25,
   "id": "11060088",
   "metadata": {},
   "outputs": [
    {
     "data": {
      "text/plain": [
       "<Axes: xlabel='Case Type', ylabel='count'>"
      ]
     },
     "execution_count": 25,
     "metadata": {},
     "output_type": "execute_result"
    },
    {
     "data": {
      "image/png": "[encoded data removed]",
      "text/plain": [
       "<Figure size 640x480 with 1 Axes>"
      ]
     },
     "metadata": {},
     "output_type": "display_data"
    }
   ],
   "source": [
    "sns.countplot(x=\"Case Type\", data=df, hue=\"Case Type\", palette=\"Set2\", legend=False)\n"
   ]
  },
  {
   "cell_type": "code",
   "execution_count": 26,
   "id": "f08d306f",
   "metadata": {},
   "outputs": [
    {
     "name": "stderr",
     "output_type": "stream",
     "text": [
      "C:\\Users\\Apostle\\AppData\\Local\\Temp\\ipykernel_20492\\8854248.py:2: FutureWarning: \n",
      "\n",
      "Passing `palette` without assigning `hue` is deprecated and will be removed in v0.14.0. Assign the `x` variable to `hue` and set `legend=False` for the same effect.\n",
      "\n",
      "  sns.countplot(x=df['Outcome'], palette='pastel')\n"
     ]
    },
    {
     "data": {
      "image/png": "[encoded data removed]",
      "text/plain": [
       "<Figure size 600x400 with 1 Axes>"
      ]
     },
     "metadata": {},
     "output_type": "display_data"
    }
   ],
   "source": [
    "plt.figure(figsize=(6, 4))\n",
    "sns.countplot(x=df['Outcome'], palette='pastel')\n",
    "plt.title('Case Outcomes Distribution')\n",
    "plt.show()\n"
   ]
  },
  {
   "cell_type": "code",
   "execution_count": 27,
   "id": "f650a579",
   "metadata": {},
   "outputs": [
    {
     "data": {
      "text/plain": [
       "<Axes: xlabel='Outcome', ylabel='count'>"
      ]
     },
     "execution_count": 27,
     "metadata": {},
     "output_type": "execute_result"
    },
    {
     "data": {
      "image/png": "[encoded data removed]",
      "text/plain": [
       "<Figure size 640x480 with 1 Axes>"
      ]
     },
     "metadata": {},
     "output_type": "display_data"
    }
   ],
   "source": [
    "sns.countplot(x=\"Outcome\", data=df, hue=\"Outcome\", palette=\"pastel\", legend=False)\n"
   ]
  },
  {
   "cell_type": "code",
   "execution_count": 28,
   "id": "eda9e2ee",
   "metadata": {},
   "outputs": [
    {
     "data": {
      "image/png": "[encoded data removed]",
      "text/plain": [
       "<Figure size 1000x500 with 1 Axes>"
      ]
     },
     "metadata": {},
     "output_type": "display_data"
    }
   ],
   "source": [
    "plt.figure(figsize=(10, 5))\n",
    "sns.histplot(data=df, x='Filing Year', hue='Outcome', multiple='stack', palette=\"Set2\", kde=True)\n",
    "plt.title('Case Trends Over the Years by Outcome')\n",
    "plt.show()\n"
   ]
  },
  {
   "cell_type": "code",
   "execution_count": 29,
   "id": "492b61cd",
   "metadata": {},
   "outputs": [
    {
     "data": {
      "text/plain": [
       "Case Type\n",
       "Civil        77.500000\n",
       "Family      111.666667\n",
       "Criminal    140.625000\n",
       "Name: Duration (Days), dtype: float64"
      ]
     },
     "execution_count": 29,
     "metadata": {},
     "output_type": "execute_result"
    }
   ],
   "source": [
    "df.groupby('Case Type')['Duration (Days)'].mean().sort_values()\n"
   ]
  },
  {
   "cell_type": "code",
   "execution_count": 30,
   "id": "26df6160",
   "metadata": {},
   "outputs": [
    {
     "name": "stdout",
     "output_type": "stream",
     "text": [
      "Index(['Case ID', 'Case Type', 'Outcome', 'Duration (Days)', 'Filing Year'], dtype='object')\n"
     ]
    }
   ],
   "source": [
    "print(df.columns)"
   ]
  },
  {
   "cell_type": "code",
   "execution_count": 31,
   "id": "7def7cff",
   "metadata": {},
   "outputs": [
    {
     "data": {
      "text/plain": [
       "Series([], dtype: int64)"
      ]
     },
     "execution_count": 31,
     "metadata": {},
     "output_type": "execute_result"
    }
   ],
   "source": [
    "df[df['Outcome'] == 'Won'].groupby('Case Type').size()\n"
   ]
  },
  {
   "cell_type": "markdown",
   "id": "09c22318",
   "metadata": {},
   "source": [
    "# Kenyan Court Case Analysis - Final Summary\n",
    "\n",
    "## 📅 Case Trends Over the Years\n",
    "- Most cases were filed between **2010 and 2020**.\n",
    "- There was a noticeable **decline in filings after 2020**, possibly due to external factors like the pandemic or digital transformation.\n",
    "- Filing years range from **2000 to 2025**, showing a broad time span in the dataset.\n",
    "\n",
    "## ⚖️ Case Types\n",
    "- The dataset includes **Criminal**, **Civil**, and **Commercial** case types.\n",
    "- **Criminal cases** are the most frequent overall.\n",
    "- **Commercial cases** are the least frequent, possibly due to the specialized nature of such disputes.\n",
    "\n",
    "## 🧾 Case Outcomes\n",
    "- Most cases resulted in a **\"Won\"** outcome, followed by **\"Lost\"** and a few **\"Withdrawn\"**.\n",
    "- **Civil cases** had a relatively high success rate.\n",
    "- Outcome distribution shows how different case types perform in terms of result.\n",
    "\n",
    "## ⏳ Case Durations\n",
    "- Case durations range from **30 to 1000 days**, with significant variation.\n",
    "- **Civil cases** take the longest on average (over **300 days**), while **Criminal cases** tend to be resolved faster.\n",
    "- The data shows some **outliers** with extremely long durations.\n",
    "\n",
    "## 📈 Insights Summary\n",
    "- The justice system appears to handle more criminal matters than civil or commercial ones.\n",
    "- There are signs of delays in **Civil cases**, possibly due to backlog or complexity.\n",
    "- Filing trends show that **case volumes peaked** around 2015–2019, with a decline afterward.\n",
    "\n"
   ]
  }
 ],
 "metadata": {
  "kernelspec": {
   "display_name": "venv",
   "language": "python",
   "name": "python3"
  },
  "language_info": {
   "codemirror_mode": {
    "name": "ipython",
    "version": 3
   },
   "file_extension": ".py",
   "mimetype": "text/x-python",
   "name": "python",
   "nbconvert_exporter": "python",
   "pygments_lexer": "ipython3",
   "version": "3.13.2"
  }
 },
 "nbformat": 4,
 "nbformat_minor": 5
}
